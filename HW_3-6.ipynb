{
 "cells": [
  {
   "cell_type": "code",
   "execution_count": 7,
   "metadata": {},
   "outputs": [
    {
     "name": "stdout",
     "output_type": "stream",
     "text": [
      "Flush!\n"
     ]
    }
   ],
   "source": [
    "table_cards = [\"A_S\", \"J_H\", \"7_D\", \"8_D\", \"10_D\"]\n",
    "hand_cards = [\"J_D\", \"3_D\"]\n",
    "\n",
    "table_suits = [t[-1] for t in table_cards]\n",
    "hand_suits = [h[-1] for h in hand_cards]\n",
    "for t in table_suits:\n",
    "    if t in hand_suits:\n",
    "        hand_suits.append(t)\n",
    "\n",
    "if len(hand_suits) == 5:\n",
    "    print('Flush!')\n",
    "else:\n",
    "    print('No Flush!')"
   ]
  },
  {
   "cell_type": "code",
   "execution_count": 9,
   "metadata": {},
   "outputs": [
    {
     "name": "stdout",
     "output_type": "stream",
     "text": [
      "Flush!\n"
     ]
    }
   ],
   "source": [
    "table_cards = [\"A_S\", \"J_H\", \"7_D\", \"8_D\", \"10_D\"]\n",
    "hand_cards = [\"J_D\", \"3_D\"]\n",
    "\n",
    "table_suits = [t[-1] for t in table_cards]\n",
    "hand_suits = [h[-1] for h in hand_cards]\n",
    "\n",
    "suites_in_game = table_suits + hand_suits\n",
    "flush = False\n",
    "for suit in 'CHSD':\n",
    "    if suites_in_game.count(suit) >= 5:\n",
    "        flush = True\n",
    "if flush:\n",
    "    print('Flush!')\n",
    "else:\n",
    "    print('No Flush!')"
   ]
  },
  {
   "cell_type": "code",
   "execution_count": 10,
   "metadata": {},
   "outputs": [
    {
     "name": "stdout",
     "output_type": "stream",
     "text": [
      "Flush!\n"
     ]
    }
   ],
   "source": [
    "table_cards = [\"A_S\", \"J_H\", \"7_D\", \"8_D\", \"10_D\"]\n",
    "hand_cards = [\"J_D\", \"3_D\"]\n",
    "\n",
    "table_suits = [t[-1] for t in table_cards]\n",
    "hand_suits = [h[-1] for h in hand_cards]\n",
    "\n",
    "suites_in_game = table_suits + hand_suits\n",
    "\n",
    "\n",
    "flush = any([suites_in_game.count(suit) >= 5 for suit in 'CHSD'])\n",
    "\n",
    "if flush:\n",
    "    print('Flush!')\n",
    "else:\n",
    "    print('No Flush!')"
   ]
  },
  {
   "cell_type": "code",
   "execution_count": 13,
   "metadata": {},
   "outputs": [
    {
     "name": "stdout",
     "output_type": "stream",
     "text": [
      "Flush!\n"
     ]
    }
   ],
   "source": [
    "table_cards = [\"A_S\", \"J_H\", \"7_D\", \"8_D\", \"10_D\"]\n",
    "hand_cards = [\"J_D\", \"3_D\"]\n",
    "\n",
    "flush = any([sum([card[-1] == suit for card in table_cards + hand_cards]) for suit in 'CHSD'])\n",
    "if flush:\n",
    "    print('Flush!')\n",
    "else:\n",
    "    print('No Flush!')"
   ]
  },
  {
   "cell_type": "code",
   "execution_count": null,
   "metadata": {},
   "outputs": [],
   "source": []
  }
 ],
 "metadata": {
  "kernelspec": {
   "display_name": "Python 3",
   "language": "python",
   "name": "python3"
  },
  "language_info": {
   "codemirror_mode": {
    "name": "ipython",
    "version": 3
   },
   "file_extension": ".py",
   "mimetype": "text/x-python",
   "name": "python",
   "nbconvert_exporter": "python",
   "pygments_lexer": "ipython3",
   "version": "3.7.6"
  }
 },
 "nbformat": 4,
 "nbformat_minor": 4
}
