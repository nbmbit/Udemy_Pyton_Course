{
 "cells": [
  {
   "cell_type": "code",
   "execution_count": 1,
   "metadata": {},
   "outputs": [],
   "source": [
    "with open('sample.txt', mode='a') as sample_file:\n",
    "    sample_file.write('Eric;7639')"
   ]
  },
  {
   "cell_type": "code",
   "execution_count": 3,
   "metadata": {},
   "outputs": [
    {
     "name": "stdout",
     "output_type": "stream",
     "text": [
      "Name|Phone\n",
      "John;1234\n",
      "Bob;4567\n",
      "Alice;8901\n",
      "Eric;7639\n"
     ]
    }
   ],
   "source": [
    "with open('sample.txt', mode='r') as sample_file:\n",
    "    print(sample_file.read())"
   ]
  },
  {
   "cell_type": "code",
   "execution_count": 6,
   "metadata": {},
   "outputs": [],
   "source": [
    "with open('sample.txt', mode='w') as sample_file:\n",
    "    sample_file.write('Eric;7639')"
   ]
  },
  {
   "cell_type": "code",
   "execution_count": 7,
   "metadata": {},
   "outputs": [
    {
     "name": "stdout",
     "output_type": "stream",
     "text": [
      "Eric;7639\n"
     ]
    }
   ],
   "source": [
    "with open('sample.txt', mode='r') as sample_file:\n",
    "    print(sample_file.read())"
   ]
  },
  {
   "cell_type": "code",
   "execution_count": 20,
   "metadata": {},
   "outputs": [],
   "source": [
    "with open('sample.txt', mode='w') as sample_file:\n",
    "    sample_file.write('Name;Phone')"
   ]
  },
  {
   "cell_type": "code",
   "execution_count": 27,
   "metadata": {},
   "outputs": [
    {
     "name": "stdout",
     "output_type": "stream",
     "text": [
      "Name;Phone\n",
      "Jonh;1234\n",
      "Bob;5678\n",
      "Alice;7896\n"
     ]
    }
   ],
   "source": [
    "with open('sample.txt', mode='r') as sample_file:\n",
    "    print(sample_file.read())"
   ]
  },
  {
   "cell_type": "code",
   "execution_count": 28,
   "metadata": {},
   "outputs": [
    {
     "name": "stdout",
     "output_type": "stream",
     "text": [
      "Name;Phone\n",
      "Jonh;1234\n",
      "Bob;5678\n",
      "Alice;7896\n",
      "Eric;7639\n"
     ]
    }
   ],
   "source": [
    "with open('sample.txt', mode='r+') as sample_file:\n",
    "    sample_file.seek(0, 2)\n",
    "    sample_file.write('\\nEric;7639')\n",
    "    sample_file.seek(0)\n",
    "    print(sample_file.read())"
   ]
  },
  {
   "cell_type": "code",
   "execution_count": 29,
   "metadata": {},
   "outputs": [
    {
     "name": "stdout",
     "output_type": "stream",
     "text": [
      "Name;Phone\n"
     ]
    }
   ],
   "source": [
    "with open('new_file.txt', mode='w+') as sample_file:\n",
    "    sample_file.write('Name;Phone')\n",
    "    sample_file.seek(0)\n",
    "    print(sample_file.read())"
   ]
  },
  {
   "cell_type": "code",
   "execution_count": 30,
   "metadata": {},
   "outputs": [
    {
     "data": {
      "text/plain": [
       "'D:\\\\Repo\\\\Udemy_Pyton_Course'"
      ]
     },
     "execution_count": 30,
     "metadata": {},
     "output_type": "execute_result"
    }
   ],
   "source": [
    "pwd"
   ]
  },
  {
   "cell_type": "code",
   "execution_count": null,
   "metadata": {},
   "outputs": [],
   "source": []
  }
 ],
 "metadata": {
  "kernelspec": {
   "display_name": "Python 3",
   "language": "python",
   "name": "python3"
  },
  "language_info": {
   "codemirror_mode": {
    "name": "ipython",
    "version": 3
   },
   "file_extension": ".py",
   "mimetype": "text/x-python",
   "name": "python",
   "nbconvert_exporter": "python",
   "pygments_lexer": "ipython3",
   "version": "3.7.6"
  }
 },
 "nbformat": 4,
 "nbformat_minor": 4
}
