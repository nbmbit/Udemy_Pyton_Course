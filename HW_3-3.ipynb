{
 "cells": [
  {
   "cell_type": "code",
   "execution_count": 1,
   "metadata": {},
   "outputs": [
    {
     "name": "stdout",
     "output_type": "stream",
     "text": [
      "Please enter the number: 10\n",
      "33\n"
     ]
    }
   ],
   "source": [
    "limit = int(input('Please enter the number: '))\n",
    "\n",
    "sum = 0\n",
    "for n in range(limit+1):\n",
    "    if n % 3 == 0:\n",
    "        sum += n\n",
    "    elif n % 5 == 0:\n",
    "        sum += n\n",
    "    else:\n",
    "        continue\n",
    "print(sum)"
   ]
  },
  {
   "cell_type": "code",
   "execution_count": 2,
   "metadata": {},
   "outputs": [
    {
     "name": "stdout",
     "output_type": "stream",
     "text": [
      "Please enter the number: 10\n",
      "33\n"
     ]
    }
   ],
   "source": [
    "limit = int(input('Please enter the number: '))\n",
    "\n",
    "sum = 0\n",
    "for n in range(limit+1):\n",
    "    if n % 3 == 0 or n % 5 == 0:\n",
    "        sum += n\n",
    "    else:\n",
    "        continue\n",
    "print(sum)"
   ]
  },
  {
   "cell_type": "code",
   "execution_count": 3,
   "metadata": {},
   "outputs": [
    {
     "name": "stdout",
     "output_type": "stream",
     "text": [
      "Please enter the number: 10\n",
      "33\n"
     ]
    }
   ],
   "source": [
    "limit = int(input('Please enter the number: '))\n",
    "\n",
    "sum = 0\n",
    "for n in range(limit+1):\n",
    "    if n % 3 == 0 or n % 5 == 0:\n",
    "        sum += n\n",
    "print(sum)"
   ]
  },
  {
   "cell_type": "code",
   "execution_count": 1,
   "metadata": {},
   "outputs": [
    {
     "name": "stdout",
     "output_type": "stream",
     "text": [
      "Please enter the number: 10\n",
      "Total sum is 33\n"
     ]
    }
   ],
   "source": [
    "limit = int(input('Please enter the number: '))\n",
    "\n",
    "total_sum = sum([x for x in range(limit + 1) if x % 3 == 0 or x % 5 == 0])\n",
    "print(f'Total sum is {total_sum}')"
   ]
  },
  {
   "cell_type": "code",
   "execution_count": null,
   "metadata": {},
   "outputs": [],
   "source": []
  }
 ],
 "metadata": {
  "kernelspec": {
   "display_name": "Python 3",
   "language": "python",
   "name": "python3"
  },
  "language_info": {
   "codemirror_mode": {
    "name": "ipython",
    "version": 3
   },
   "file_extension": ".py",
   "mimetype": "text/x-python",
   "name": "python",
   "nbconvert_exporter": "python",
   "pygments_lexer": "ipython3",
   "version": "3.7.6"
  }
 },
 "nbformat": 4,
 "nbformat_minor": 4
}
