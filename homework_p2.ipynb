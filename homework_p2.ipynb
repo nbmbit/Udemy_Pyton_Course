{
 "cells": [
  {
   "cell_type": "code",
   "execution_count": 1,
   "metadata": {},
   "outputs": [
    {
     "name": "stdout",
     "output_type": "stream",
     "text": [
      "Specify a number of cups you have bought:6\n",
      "Your have 1 cup for free.\n"
     ]
    }
   ],
   "source": [
    "cups = int(input('Specify a number of cups you have bought:'))\n",
    "if cups >= 6:\n",
    "    cups_free = round(cups/6)\n",
    "    if cups_free == 1:\n",
    "        print(f\"Your have {cups_free} cup for free.\")\n",
    "    else:\n",
    "        print(f\"Your have {cups_free} cups for free.\")\n",
    "else:\n",
    "    cups_left = 6-cups\n",
    "    if cups_left == 1:\n",
    "        print(f\"You have {cups_left} cup left.\")\n",
    "    else:\n",
    "        print(f\"You have {cups_left} cups left.\")"
   ]
  },
  {
   "cell_type": "code",
   "execution_count": 2,
   "metadata": {},
   "outputs": [
    {
     "name": "stdout",
     "output_type": "stream",
     "text": [
      "3.606\n"
     ]
    }
   ],
   "source": [
    "x_a, y_a, u_pigs = [int(i) for i in input('Enter a number of hens, cows and pigs: ').split()]\n",
    "x_a = 2\n",
    "y_a = 2\n",
    "x_b = 5\n",
    "y_b = 4\n",
    "import math\n",
    "answer = math.sqrt((x_b-x_a)**2+(y_b-y_a)**2)\n",
    "print(round(answer, 3))"
   ]
  },
  {
   "cell_type": "code",
   "execution_count": 3,
   "metadata": {},
   "outputs": [],
   "source": [
    "#hens, cows, pigs = input('Enter a number of hens, cows and pigs: ').split()"
   ]
  },
  {
   "cell_type": "code",
   "execution_count": null,
   "metadata": {},
   "outputs": [],
   "source": [
    "hens, cows, pigs = [2, 4, 4]\n",
    "u_hens, u_cows, u_pigs = [int(i) for i in input('Enter a number of hens, cows and pigs: ').split()]\n",
    "total = (hens*u_hens)+(cows*u_cows)+(pigs*u_pigs)\n",
    "print(f'Total amount of legs are: {total}')"
   ]
  },
  {
   "cell_type": "code",
   "execution_count": null,
   "metadata": {},
   "outputs": [],
   "source": []
  }
 ],
 "metadata": {
  "kernelspec": {
   "display_name": "Python 3",
   "language": "python",
   "name": "python3"
  },
  "language_info": {
   "codemirror_mode": {
    "name": "ipython",
    "version": 3
   },
   "file_extension": ".py",
   "mimetype": "text/x-python",
   "name": "python",
   "nbconvert_exporter": "python",
   "pygments_lexer": "ipython3",
   "version": "3.7.6"
  }
 },
 "nbformat": 4,
 "nbformat_minor": 4
}
