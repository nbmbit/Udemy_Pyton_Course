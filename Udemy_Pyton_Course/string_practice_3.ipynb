{
 "cells": [
  {
   "cell_type": "code",
   "execution_count": 12,
   "metadata": {},
   "outputs": [
    {
     "name": "stdout",
     "output_type": "stream",
     "text": [
      "empty\n"
     ]
    }
   ],
   "source": [
    "empty_str = False\n",
    "if not empty_str:\n",
    "    print(\"empty\")\n",
    "else:\n",
    "    print(\"not empty\")"
   ]
  },
  {
   "cell_type": "code",
   "execution_count": 16,
   "metadata": {},
   "outputs": [
    {
     "name": "stdout",
     "output_type": "stream",
     "text": [
      "True\n",
      "False\n",
      "True\n",
      "False\n"
     ]
    }
   ],
   "source": [
    "h = \"hello\"\n",
    "print(h.startswith(\"h\"))\n",
    "print(h.startswith(\"e\"))\n",
    "print(h.endswith(\"o\"))\n",
    "print(h.endswith(\"l\"))"
   ]
  },
  {
   "cell_type": "code",
   "execution_count": 17,
   "metadata": {},
   "outputs": [
    {
     "name": "stdout",
     "output_type": "stream",
     "text": [
      "<class 'list'>\n",
      "['he', '', 'o']\n",
      "['h', 'llo']\n"
     ]
    }
   ],
   "source": [
    "split = h.split(\"l\")\n",
    "print(type(split))\n",
    "print(split)\n",
    "split = h.split(\"e\")\n",
    "print(split)"
   ]
  },
  {
   "cell_type": "code",
   "execution_count": 18,
   "metadata": {},
   "outputs": [
    {
     "name": "stdout",
     "output_type": "stream",
     "text": [
      "['12', '10', '11', '18']\n"
     ]
    }
   ],
   "source": [
    "data = \"12;10;11;18\"\n",
    "split_data = data.split(\";\")\n",
    "print(split_data)"
   ]
  },
  {
   "cell_type": "code",
   "execution_count": 20,
   "metadata": {},
   "outputs": [
    {
     "name": "stdout",
     "output_type": "stream",
     "text": [
      "('Python ', 'is', ' fun')\n",
      "['Python ', ' fun']\n"
     ]
    }
   ],
   "source": [
    "python = \"Python is fun\"\n",
    "print(python.partition(\"is\"))\n",
    "print(python.split(\"is\"))"
   ]
  },
  {
   "cell_type": "code",
   "execution_count": null,
   "metadata": {},
   "outputs": [],
   "source": []
  }
 ],
 "metadata": {
  "kernelspec": {
   "display_name": "Python 3",
   "language": "python",
   "name": "python3"
  },
  "language_info": {
   "codemirror_mode": {
    "name": "ipython",
    "version": 3
   },
   "file_extension": ".py",
   "mimetype": "text/x-python",
   "name": "python",
   "nbconvert_exporter": "python",
   "pygments_lexer": "ipython3",
   "version": "3.7.6"
  }
 },
 "nbformat": 4,
 "nbformat_minor": 4
}
