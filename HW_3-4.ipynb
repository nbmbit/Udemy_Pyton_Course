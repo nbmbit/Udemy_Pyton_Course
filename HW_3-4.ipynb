{
 "cells": [
  {
   "cell_type": "code",
   "execution_count": 1,
   "metadata": {},
   "outputs": [
    {
     "name": "stdout",
     "output_type": "stream",
     "text": [
      "[1, 3, 5, 12, 14]\n"
     ]
    }
   ],
   "source": [
    "first_lst = [1, 2, 3, 4, 5, 6]\n",
    "second_lst = [11, 12, 13, 14, 15]\n",
    "\n",
    "joined_list = []\n",
    "for n in first_lst:\n",
    "    if n % 2 != 0:\n",
    "        joined_list.append(n)\n",
    "    else:\n",
    "        continue\n",
    "for n in second_lst:\n",
    "    if n % 2 == 0:\n",
    "        joined_list.append(n)\n",
    "    else:\n",
    "        continue\n",
    "print(joined_list)"
   ]
  },
  {
   "cell_type": "code",
   "execution_count": 2,
   "metadata": {},
   "outputs": [
    {
     "name": "stdout",
     "output_type": "stream",
     "text": [
      "[1, 3, 5, 12, 14]\n"
     ]
    }
   ],
   "source": [
    "first_lst = [1, 2, 3, 4, 5, 6]\n",
    "second_lst = [11, 12, 13, 14, 15]\n",
    "\n",
    "odds = [x for x in first_lst if x % 2 != 0]\n",
    "evens = [x for x in second_lst if x % 2 == 0]\n",
    "joined_list = odds + evens\n",
    "print(joined_list)"
   ]
  },
  {
   "cell_type": "code",
   "execution_count": null,
   "metadata": {},
   "outputs": [],
   "source": []
  }
 ],
 "metadata": {
  "kernelspec": {
   "display_name": "Python 3",
   "language": "python",
   "name": "python3"
  },
  "language_info": {
   "codemirror_mode": {
    "name": "ipython",
    "version": 3
   },
   "file_extension": ".py",
   "mimetype": "text/x-python",
   "name": "python",
   "nbconvert_exporter": "python",
   "pygments_lexer": "ipython3",
   "version": "3.7.6"
  }
 },
 "nbformat": 4,
 "nbformat_minor": 4
}
