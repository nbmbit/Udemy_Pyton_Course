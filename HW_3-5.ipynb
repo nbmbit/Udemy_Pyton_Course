{
 "cells": [
  {
   "cell_type": "code",
   "execution_count": 1,
   "metadata": {},
   "outputs": [
    {
     "name": "stdout",
     "output_type": "stream",
     "text": [
      "2\n"
     ]
    }
   ],
   "source": [
    "current_hand = [2, 3, 4, 10, 'Q', 5]\n",
    "\n",
    "values = {2 : 1, 3 : 1, 4 : 1, 5 : 1, 6 : 1, 7 : 0, 8 : 0, 9 : 0, 10 : -1, 'J' : -1, 'Q' : -1, 'K' : -1, 'A' : -1}\n",
    "cards_sum = 0\n",
    "for n in current_hand:\n",
    "    for k, v in values.items():\n",
    "        if n == k:\n",
    "            cards_sum += v\n",
    "print(cards_sum)"
   ]
  },
  {
   "cell_type": "code",
   "execution_count": 6,
   "metadata": {},
   "outputs": [
    {
     "name": "stdout",
     "output_type": "stream",
     "text": [
      "2\n"
     ]
    }
   ],
   "source": [
    "current_hand = [2, 3, 4, 10, 'Q', 5]\n",
    "\n",
    "values = {2 : 1, 3 : 1, 4 : 1, 5 : 1, 6 : 1, 7 : 0, 8 : 0, 9 : 0, 10 : -1, 'J' : -1, 'Q' : -1, 'K' : -1, 'A' : -1}\n",
    "cards_sum = sum([values[x] for x in current_hand])\n",
    "print(cards_sum)"
   ]
  },
  {
   "cell_type": "code",
   "execution_count": null,
   "metadata": {},
   "outputs": [],
   "source": []
  }
 ],
 "metadata": {
  "kernelspec": {
   "display_name": "Python 3",
   "language": "python",
   "name": "python3"
  },
  "language_info": {
   "codemirror_mode": {
    "name": "ipython",
    "version": 3
   },
   "file_extension": ".py",
   "mimetype": "text/x-python",
   "name": "python",
   "nbconvert_exporter": "python",
   "pygments_lexer": "ipython3",
   "version": "3.7.6"
  }
 },
 "nbformat": 4,
 "nbformat_minor": 4
}
