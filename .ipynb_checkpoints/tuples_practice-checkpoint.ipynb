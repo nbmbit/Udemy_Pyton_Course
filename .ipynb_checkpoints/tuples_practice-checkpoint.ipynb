{
 "cells": [
  {
   "cell_type": "code",
   "execution_count": 5,
   "metadata": {},
   "outputs": [
    {
     "name": "stdout",
     "output_type": "stream",
     "text": [
      "('Carlsen', 'Magnus', 22)\n",
      "Carlsen\n"
     ]
    }
   ],
   "source": [
    "player = ('Carlsen', 'Magnus', 22)\n",
    "print(player)\n",
    "print(player[0])"
   ]
  },
  {
   "cell_type": "code",
   "execution_count": 6,
   "metadata": {},
   "outputs": [
    {
     "name": "stdout",
     "output_type": "stream",
     "text": [
      "[('Carlsen', 1990, 22), ('Caruana', 1992, 22), ('Mamedyarov', 1985, 22)]\n",
      "('Carlsen', 1990, 22)\n"
     ]
    }
   ],
   "source": [
    "players_list = [('Carlsen', 1990, 22), ('Caruana', 1992, 22), ('Mamedyarov', 1985, 22)]\n",
    "print(players_list)\n",
    "print(players_list[0])"
   ]
  },
  {
   "cell_type": "code",
   "execution_count": 7,
   "metadata": {},
   "outputs": [],
   "source": [
    "from collections import namedtuple"
   ]
  },
  {
   "cell_type": "code",
   "execution_count": 12,
   "metadata": {},
   "outputs": [],
   "source": [
    "Player = namedtuple('Player', 'name year rating')"
   ]
  },
  {
   "cell_type": "code",
   "execution_count": 19,
   "metadata": {},
   "outputs": [
    {
     "name": "stdout",
     "output_type": "stream",
     "text": [
      "[Player(name='Carlsen', year=1990, rating=22), Player(name='Caruana', year=1992, rating=22), Player(name='Mamedyarov', year=1985, rating=22)]\n",
      "Player(name='Carlsen', year=1990, rating=22)\n",
      "Player(name='Caruana', year=1992, rating=22)\n",
      "Player(name='Mamedyarov', year=1985, rating=22)\n",
      "Carlsen\n",
      "Caruana\n"
     ]
    }
   ],
   "source": [
    "players = [Player('Carlsen', 1990, 22), Player('Caruana', 1992, 22), Player('Mamedyarov', 1985, 22)]\n",
    "print(players)\n",
    "print(players[0])\n",
    "print(players[1])\n",
    "print(players[2])\n",
    "print(players[0].name)\n",
    "print(players[1].name)"
   ]
  },
  {
   "cell_type": "code",
   "execution_count": null,
   "metadata": {},
   "outputs": [],
   "source": []
  }
 ],
 "metadata": {
  "kernelspec": {
   "display_name": "Python 3",
   "language": "python",
   "name": "python3"
  },
  "language_info": {
   "codemirror_mode": {
    "name": "ipython",
    "version": 3
   },
   "file_extension": ".py",
   "mimetype": "text/x-python",
   "name": "python",
   "nbconvert_exporter": "python",
   "pygments_lexer": "ipython3",
   "version": "3.7.6"
  }
 },
 "nbformat": 4,
 "nbformat_minor": 4
}
